{
 "cells": [
  {
   "cell_type": "code",
   "execution_count": 281,
   "metadata": {},
   "outputs": [],
   "source": [
    "import io\n",
    "import os\n",
    "# Imports the Google Cloud client library\n",
    "from google.cloud import vision\n",
    "from google.cloud.vision import types\n",
    "from google.oauth2 import service_account\n",
    "\n",
    "credentials = service_account.Credentials.from_service_account_file('')#JSON account file for API\n",
    "\n",
    "client = vision.ImageAnnotatorClient(credentials=credentials)"
   ]
  },
  {
   "cell_type": "code",
   "execution_count": 207,
   "metadata": {},
   "outputs": [],
   "source": [
    "#Open list of image ads\n",
    "import csv\n",
    "with open('/Users/JaxLiu/Desktop/Research/google-political-ads-creative-library/imagead_valid.csv') as f:\n",
    "    reader = csv.reader(f)\n",
    "    db = list(reader)"
   ]
  },
  {
   "cell_type": "code",
   "execution_count": 263,
   "metadata": {},
   "outputs": [
    {
     "ename": "FileNotFoundError",
     "evalue": "[Errno 2] No such file or directory: '/Users/JaxLiu/Desktop/Research/google-political-ads-creative-library/images/13824.jpg'",
     "output_type": "error",
     "traceback": [
      "\u001b[0;31m---------------------------------------------------------------------------\u001b[0m",
      "\u001b[0;31mFileNotFoundError\u001b[0m                         Traceback (most recent call last)",
      "\u001b[0;32m<ipython-input-263-05e12f2b6649>\u001b[0m in \u001b[0;36m<module>\u001b[0;34m\u001b[0m\n\u001b[1;32m      1\u001b[0m \u001b[0;32mfor\u001b[0m \u001b[0mi\u001b[0m \u001b[0;32min\u001b[0m \u001b[0mrange\u001b[0m\u001b[0;34m(\u001b[0m\u001b[0mlen\u001b[0m\u001b[0;34m(\u001b[0m\u001b[0mdb\u001b[0m\u001b[0;34m)\u001b[0m\u001b[0;34m-\u001b[0m\u001b[0;36m1\u001b[0m\u001b[0;34m,\u001b[0m \u001b[0mlen\u001b[0m\u001b[0;34m(\u001b[0m\u001b[0mdb\u001b[0m\u001b[0;34m)\u001b[0m\u001b[0;34m+\u001b[0m\u001b[0;36m1\u001b[0m\u001b[0;34m)\u001b[0m\u001b[0;34m:\u001b[0m\u001b[0;34m\u001b[0m\u001b[0;34m\u001b[0m\u001b[0m\n\u001b[0;32m----> 2\u001b[0;31m     \u001b[0;32mwith\u001b[0m \u001b[0mio\u001b[0m\u001b[0;34m.\u001b[0m\u001b[0mopen\u001b[0m\u001b[0;34m(\u001b[0m\u001b[0;34m'/Users/JaxLiu/Desktop/Research/google-political-ads-creative-library/images/'\u001b[0m\u001b[0;34m+\u001b[0m \u001b[0mstr\u001b[0m\u001b[0;34m(\u001b[0m\u001b[0mi\u001b[0m\u001b[0;34m)\u001b[0m \u001b[0;34m+\u001b[0m\u001b[0;34m'.jpg'\u001b[0m\u001b[0;34m,\u001b[0m \u001b[0;34m'rb'\u001b[0m\u001b[0;34m)\u001b[0m \u001b[0;32mas\u001b[0m \u001b[0mimage_file\u001b[0m\u001b[0;34m:\u001b[0m\u001b[0;34m\u001b[0m\u001b[0;34m\u001b[0m\u001b[0m\n\u001b[0m\u001b[1;32m      3\u001b[0m         \u001b[0mcontent\u001b[0m \u001b[0;34m=\u001b[0m \u001b[0mimage_file\u001b[0m\u001b[0;34m.\u001b[0m\u001b[0mread\u001b[0m\u001b[0;34m(\u001b[0m\u001b[0;34m)\u001b[0m\u001b[0;34m\u001b[0m\u001b[0;34m\u001b[0m\u001b[0m\n\u001b[1;32m      4\u001b[0m     \u001b[0mimage\u001b[0m \u001b[0;34m=\u001b[0m \u001b[0mvision\u001b[0m\u001b[0;34m.\u001b[0m\u001b[0mtypes\u001b[0m\u001b[0;34m.\u001b[0m\u001b[0mImage\u001b[0m\u001b[0;34m(\u001b[0m\u001b[0mcontent\u001b[0m\u001b[0;34m=\u001b[0m\u001b[0mcontent\u001b[0m\u001b[0;34m)\u001b[0m\u001b[0;34m\u001b[0m\u001b[0;34m\u001b[0m\u001b[0m\n\u001b[1;32m      5\u001b[0m     \u001b[0mresponse\u001b[0m \u001b[0;34m=\u001b[0m \u001b[0mclient\u001b[0m\u001b[0;34m.\u001b[0m\u001b[0mface_detection\u001b[0m\u001b[0;34m(\u001b[0m\u001b[0mimage\u001b[0m\u001b[0;34m=\u001b[0m\u001b[0mimage\u001b[0m\u001b[0;34m)\u001b[0m\u001b[0;34m\u001b[0m\u001b[0;34m\u001b[0m\u001b[0m\n",
      "\u001b[0;31mFileNotFoundError\u001b[0m: [Errno 2] No such file or directory: '/Users/JaxLiu/Desktop/Research/google-political-ads-creative-library/images/13824.jpg'"
     ]
    }
   ],
   "source": [
    "#Detect face sentiment in image ads\n",
    "for i in range(1, len(db)):\n",
    "    with io.open('/Users/JaxLiu/Desktop/Research/google-political-ads-creative-library/images/'+ str(i) +'.jpg', 'rb') as image_file:\n",
    "        content = image_file.read()\n",
    "    image = vision.types.Image(content=content)\n",
    "    response = client.face_detection(image=image)\n",
    "    faces = response.face_annotations\n",
    "    for face in faces:\n",
    "        anger = likelihood_name[face.anger_likelihood]\n",
    "        sorrow = likelihood_name[face.sorrow_likelihood]\n",
    "        joy = likelihood_name[face.joy_likelihood]\n",
    "        surprise = likelihood_name[face.surprise_likelihood]\n",
    "    db[i].append(anger)\n",
    "    db[i].append(sorrow)\n",
    "    db[i].append(joy)\n",
    "    db[i].append(surprise)\n",
    "    "
   ]
  },
  {
   "cell_type": "code",
   "execution_count": 271,
   "metadata": {},
   "outputs": [
    {
     "ename": "IndentationError",
     "evalue": "unexpected indent (<ipython-input-271-bcc570ddb991>, line 4)",
     "output_type": "error",
     "traceback": [
      "\u001b[0;36m  File \u001b[0;32m\"<ipython-input-271-bcc570ddb991>\"\u001b[0;36m, line \u001b[0;32m4\u001b[0m\n\u001b[0;31m    with io.open('/Users/JaxLiu/Desktop/Research/google-political-ads-creative-library/images/'+ len(db) +'.jpg', 'rb') as image_file:\u001b[0m\n\u001b[0m    ^\u001b[0m\n\u001b[0;31mIndentationError\u001b[0m\u001b[0;31m:\u001b[0m unexpected indent\n"
     ]
    }
   ],
   "source": [
    "#Detect labels in image ads\n",
    "\n",
    "for i in range(len(db)-1, len(db)+1):\n",
    "    with io.open('/Users/JaxLiu/Desktop/Research/google-political-ads-creative-library/images/'+ str(i) +'.jpg', 'rb') as image_file:\n",
    "        content = image_file.read()\n",
    "    image = vision.types.Image(content=content)\n",
    "    response = client.label_detection(image=image)\n",
    "    labels = response.label_annotations\n",
    "    toplabels = []\n",
    "    \n",
    "    for label in labels:\n",
    "        toplabels.append(label.description)\n",
    "    db[i].append(toplabels)"
   ]
  },
  {
   "cell_type": "code",
   "execution_count": 307,
   "metadata": {},
   "outputs": [],
   "source": [
    "##Detect texts in image ads\n",
    "for i in range(2060, len(db)):\n",
    "    with io.open('/Users/JaxLiu/Desktop/Research/google-political-ads-creative-library/images/'+ str(i) +'.jpg', 'rb') as image_file: \n",
    "        content = image_file.read()\n",
    "    image = vision.types.Image(content=content)\n",
    "    response = client.text_detection(image=image)\n",
    "    texts = response.text_annotations\n",
    "\n",
    "    textsum = []\n",
    "    \n",
    "    for text in texts:\n",
    "        textsum.append(text.description)\n",
    "    db[i].append(textsum)"
   ]
  },
  {
   "cell_type": "code",
   "execution_count": 306,
   "metadata": {},
   "outputs": [
    {
     "name": "stdout",
     "output_type": "stream",
     "text": [
      "['55584', 'CR65445131108483072', 'https://transparencyreport.google.com/political-ads/library/advertiser/AR99914820639260672/creative/CR65445131108483072', 'Image', 'AR99914820639260672', 'PEOPLE OVER POLITICS', '2018-09-18', '2018-11-05', '42', '100-1k', '1M-10M', 'CA500183232638091264', 'https://tpc.googlesyndication.com/simgad/137465241216511922', ['Text', 'Font', 'Banner', 'Logo', 'Brand'], 'VERY_UNLIKELY', 'VERY_UNLIKELY', 'VERY_UNLIKELY', 'VERY_UNLIKELY', ['NEAL SIMON\\nPEOPLE\\nover\\nPOLITICS\\nIndependent Candidate for US Senate\\nwcc\\nid r\\nsi tauhi y ncndidcndioo\\n', 'NEAL', 'SIMON', 'PEOPLE', 'over', 'POLITICS', 'Independent', 'Candidate', 'for', 'US', 'Senate', 'wcc', 'id', 'r', 'si', 'tauhi', 'y', 'ncndidcndioo']]\n"
     ]
    }
   ],
   "source": [
    "import pandas as pd\n",
    "my_df = pd.DataFrame(db)\n",
    "my_df.to_csv('/Users/JaxLiu/Desktop/Research/google-political-ads-creative-library/image_detected.csv', index=False, header=True)"
   ]
  },
  {
   "cell_type": "code",
   "execution_count": 301,
   "metadata": {},
   "outputs": [
    {
     "name": "stdout",
     "output_type": "stream",
     "text": [
      "2060\n"
     ]
    }
   ],
   "source": []
  },
  {
   "cell_type": "code",
   "execution_count": null,
   "metadata": {},
   "outputs": [],
   "source": []
  }
 ],
 "metadata": {
  "kernelspec": {
   "display_name": "Python 3",
   "language": "python",
   "name": "python3"
  },
  "language_info": {
   "codemirror_mode": {
    "name": "ipython",
    "version": 3
   },
   "file_extension": ".py",
   "mimetype": "text/x-python",
   "name": "python",
   "nbconvert_exporter": "python",
   "pygments_lexer": "ipython3",
   "version": "3.7.3"
  }
 },
 "nbformat": 4,
 "nbformat_minor": 2
}

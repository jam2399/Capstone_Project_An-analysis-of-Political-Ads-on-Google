{
 "cells": [
  {
   "cell_type": "code",
   "execution_count": null,
   "metadata": {},
   "outputs": [],
   "source": [
    "import io\n",
    "import os\n",
    "# Imports the Google Cloud client library\n",
    "from google.cloud import vision\n",
    "from google.cloud.vision import types\n",
    "from google.oauth2 import service_account\n",
    "\n",
    "credentials = service_account.Credentials.from_service_account_file('')#JSON account file for API\n",
    "\n",
    "client = vision.ImageAnnotatorClient(credentials=credentials)"
   ]
  },
  {
   "cell_type": "code",
   "execution_count": null,
   "metadata": {},
   "outputs": [],
   "source": [
    "#Open list of image ads\n",
    "import csv\n",
    "with open('/Users/JaxLiu/Desktop/Research/google-political-ads-creative-library/imagead_valid.csv') as f:\n",
    "    reader = csv.reader(f)\n",
    "    db = list(reader)"
   ]
  },
  {
   "cell_type": "code",
   "execution_count": null,
   "metadata": {},
   "outputs": [],
   "source": [
    "#Detect face sentiment in image ads\n",
    "for i in range(1, len(db)):\n",
    "    with io.open('/Users/JaxLiu/Desktop/Research/google-political-ads-creative-library/images/'+ str(i) +'.jpg', 'rb') as image_file:\n",
    "        content = image_file.read()\n",
    "    image = vision.types.Image(content=content)\n",
    "    response = client.face_detection(image=image)\n",
    "    faces = response.face_annotations\n",
    "    for face in faces:\n",
    "        anger = likelihood_name[face.anger_likelihood]\n",
    "        sorrow = likelihood_name[face.sorrow_likelihood]\n",
    "        joy = likelihood_name[face.joy_likelihood]\n",
    "        surprise = likelihood_name[face.surprise_likelihood]\n",
    "    db[i].append(anger)\n",
    "    db[i].append(sorrow)\n",
    "    db[i].append(joy)\n",
    "    db[i].append(surprise)\n",
    "    "
   ]
  },
  {
   "cell_type": "code",
   "execution_count": null,
   "metadata": {},
   "outputs": [],
   "source": [
    "#Detect labels in image ads\n",
    "\n",
    "for i in range(len(db)-1, len(db)+1):\n",
    "    with io.open('/Users/JaxLiu/Desktop/Research/google-political-ads-creative-library/images/'+ str(i) +'.jpg', 'rb') as image_file:\n",
    "        content = image_file.read()\n",
    "    image = vision.types.Image(content=content)\n",
    "    response = client.label_detection(image=image)\n",
    "    labels = response.label_annotations\n",
    "    toplabels = []\n",
    "    \n",
    "    for label in labels:\n",
    "        toplabels.append(label.description)\n",
    "    db[i].append(toplabels)"
   ]
  },
  {
   "cell_type": "code",
   "execution_count": null,
   "metadata": {},
   "outputs": [],
   "source": [
    "##Detect texts in image ads\n",
    "for i in range(2060, len(db)):\n",
    "    with io.open('/Users/JaxLiu/Desktop/Research/google-political-ads-creative-library/images/'+ str(i) +'.jpg', 'rb') as image_file: \n",
    "        content = image_file.read()\n",
    "    image = vision.types.Image(content=content)\n",
    "    response = client.text_detection(image=image)\n",
    "    texts = response.text_annotations\n",
    "\n",
    "    textsum = []\n",
    "    \n",
    "    for text in texts:\n",
    "        textsum.append(text.description)\n",
    "    db[i].append(textsum)"
   ]
  },
  {
   "cell_type": "code",
   "execution_count": null,
   "metadata": {},
   "outputs": [],
   "source": [
    "#save the data as a csv file\n",
    "import pandas as pd\n",
    "my_df = pd.DataFrame(db)\n",
    "#my_df.to_csv('/Users/JaxLiu/Desktop/Research/google-political-ads-creative-library/image_detected.csv', index=False, header=True)"
   ]
  },
  {
   "cell_type": "code",
   "execution_count": null,
   "metadata": {},
   "outputs": [],
   "source": [
    "my_df[18] = my_df[18].replace('\\\\n+', ' ')\n",
    "my_df[18].head()"
   ]
  }
 ],
 "metadata": {
  "kernelspec": {
   "display_name": "Python 3",
   "language": "python",
   "name": "python3"
  },
  "language_info": {
   "codemirror_mode": {
    "name": "ipython",
    "version": 3
   },
   "file_extension": ".py",
   "mimetype": "text/x-python",
   "name": "python",
   "nbconvert_exporter": "python",
   "pygments_lexer": "ipython3",
   "version": "3.7.3"
  }
 },
 "nbformat": 4,
 "nbformat_minor": 2
}
